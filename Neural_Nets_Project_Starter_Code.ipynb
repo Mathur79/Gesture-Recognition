{
 "cells": [
  {
   "cell_type": "markdown",
   "metadata": {},
   "source": [
    "# Gesture Recognition\n",
    "In this group project, you are going to build a 3D Conv model that will be able to predict the 5 gestures correctly. Please import the following libraries to get started."
   ]
  },
  {
   "cell_type": "code",
   "execution_count": 1,
   "metadata": {},
   "outputs": [],
   "source": [
    "import numpy as np\n",
    "import os\n",
    "from imageio import imread\n",
    "from skimage.transform import resize\n",
    "import datetime\n",
    "#from scipy.misc.pilutil import imread, imresize\n",
    "\n",
    "import os\n",
    "from keras.models import Sequential, Model\n",
    "from keras.layers import Dense, GRU, Flatten, TimeDistributed, Flatten, BatchNormalization, Activation\n",
    "from keras.layers import Conv3D, MaxPooling3D\n",
    "#from keras.layers.convolutional import Conv3D, MaxPooling3D\n",
    "from keras.callbacks import ModelCheckpoint, ReduceLROnPlateau\n",
    "from keras import optimizers"
   ]
  },
  {
   "cell_type": "code",
   "execution_count": 2,
   "metadata": {},
   "outputs": [
    {
     "name": "stdout",
     "output_type": "stream",
     "text": [
      "Requirement already satisfied: Pillow in c:\\users\\mathu\\anaconda3\\lib\\site-packages (10.2.0)\n",
      "Note: you may need to restart the kernel to use updated packages.\n"
     ]
    }
   ],
   "source": [
    "pip install Pillow"
   ]
  },
  {
   "cell_type": "markdown",
   "metadata": {},
   "source": [
    "We set the random seed so that the results don't vary drastically."
   ]
  },
  {
   "cell_type": "code",
   "execution_count": 4,
   "metadata": {},
   "outputs": [],
   "source": [
    "np.random.seed(30)\n",
    "import random as rn\n",
    "rn.seed(30)\n",
    "from keras import backend as K\n",
    "import tensorflow as tf\n",
    "#tf.set_random_seed(30)\n",
    "tf.random.set_seed(30)"
   ]
  },
  {
   "cell_type": "markdown",
   "metadata": {},
   "source": [
    "In this block, you read the folder names for training and validation. You also set the `batch_size` here. Note that you set the batch size in such a way that you are able to use the GPU in full capacity. You keep increasing the batch size until the machine throws an error."
   ]
  },
  {
   "cell_type": "code",
   "execution_count": 5,
   "metadata": {},
   "outputs": [],
   "source": [
    "# train_doc = np.random.permutation(open('/notebooks/storage/Final_data/Collated_training/train.csv').readlines())\n",
    "# val_doc = np.random.permutation(open('/notebooks/storage/Final_data/Collated_training/val.csv').readlines())\n",
    "batch_size = 30\n",
    "train_doc = np.random.permutation(open('Project_data/Project_data/train.csv').readlines())\n",
    "val_doc = np.random.permutation(open('Project_data/Project_data/val.csv').readlines())\n",
    "training_folder = 'Project_data/Project_data/train'\n",
    "testing_folder = 'Project_data/Project_data/test'\n",
    "\n",
    "image_sequeneces = range(1,30,2)\n",
    "image_length = 180\n",
    "image_breadth = 180\n",
    "\n",
    "input_shape = (len(image_sequeneces), image_length, image_breadth, 3)\n",
    "\n",
    "\n",
    "#train_doc.shape\n",
    "# for n in image_sequeneces:\n",
    "#     print (n)"
   ]
  },
  {
   "cell_type": "markdown",
   "metadata": {},
   "source": [
    "## Generator\n",
    "This is one of the most important part of the code. The overall structure of the generator has been given. In the generator, you are going to preprocess the images as you have images of 2 different dimensions as well as create a batch of video frames. You have to experiment with `img_idx`, `y`,`z` and normalization such that you get high accuracy."
   ]
  },
  {
   "cell_type": "code",
   "execution_count": 6,
   "metadata": {},
   "outputs": [],
   "source": [
    "def generator(source_path, folder_list, batch_size, is_train = False, augmention = False, debug=False):\n",
    "    #print( 'Source path = ', source_path, '; batch size =', batch_size, is_train = False, augmention = False, debug=False)\n",
    "    img_idx = image_sequeneces\n",
    "    x = len(img_idx)\n",
    "    y = image_length\n",
    "    z = image_breadth\n",
    "    print (\"came here\")\n",
    "    while True:\n",
    "        t = np.random.permutation(folder_list)\n",
    "        \n",
    "        last_batch = 0\n",
    "\n",
    "        if (len(t)%batch_size) == 0:\n",
    "            num_batches = int(len(t)/batch_size)\n",
    "            last_batch = 0\n",
    "        else:\n",
    "            last_batch = \n",
    "            num_batches = len(t)//batch_size + 1\n",
    "            \n",
    "\n",
    "        print (\"came here num_batches: \" + str(num_batches))\n",
    "\n",
    "        for batch in range(num_batches): # we iterate over the number of batches\n",
    "            print (\"Inside For\")\n",
    "\n",
    "            batch_data = np.zeros((batch_size,x,y,z,3)) # x is the number of images you use for each video, (y,z) is the final size of the input images and 3 is the number of channels RGB\n",
    "            batch_labels = np.zeros((batch_size,5)) # batch_labels is the one hot representation of the output\n",
    "            for folder in range(batch_size): # iterate over the batch_size\n",
    "\n",
    "                imgs = os.listdir(source_path+'/'+ t[folder + (batch*batch_size)].split(';')[0]) # read all the images in the folder\n",
    "                for idx,item in enumerate(img_idx): #  Iterate iver the frames/images of a folder to read them in\n",
    "                    image = imread(source_path+'/'+ t[folder + (batch*batch_size)].strip().split(';')[0]+'/'+imgs[item]).astype(np.float32)\n",
    "                    \n",
    "                    if image.shape[1] != image.shape[0]:\n",
    "                        diff_shape = abs(image.shape[1] - image.shape[0])\n",
    "                        crop_start = diff_shape // 2\n",
    "                        crop_end = crop_start + min(image.shape[0],image.shape[1])\n",
    "                        if image.shape[1] > image.shape[0]:\n",
    "                            image = image[:, crop_start:crop_end]\n",
    "                        else:\n",
    "                            image = image[crop_start:crop_end, :]\n",
    "                            \n",
    "                    resized_image = resize(image, output_shape=(y,z))\n",
    "                    \n",
    "                    #crop the images and resize them. Note that the images are of 2 different shape \n",
    "                    #and the conv3D will throw error if the inputs in a batch have different shapes\n",
    "                    \n",
    "                    batch_data[folder,idx,:,:,0] = resized_image[:,:,0]/255 #normalise and feed in the image\n",
    "                    batch_data[folder,idx,:,:,1] = resized_image[:,:,1]/255 #normalise and feed in the image\n",
    "                    batch_data[folder,idx,:,:,2] = resized_image[:,:,2]/255 #normalise and feed in the image\n",
    "                    \n",
    "                batch_labels[folder, int(t[folder + (batch*batch_size)].strip().split(';')[2])] = 1\n",
    "            yield batch_data, batch_labels #you yield the batch_data and the batch_labels, remember what does yield do\n",
    "\n",
    "        \n",
    "        # write the code for the remaining data points which are left after full batches\n"
   ]
  },
  {
   "cell_type": "markdown",
   "metadata": {},
   "source": [
    "Note here that a video is represented above in the generator as (number of images, height, width, number of channels). Take this into consideration while creating the model architecture."
   ]
  },
  {
   "cell_type": "code",
   "execution_count": 7,
   "metadata": {},
   "outputs": [
    {
     "name": "stdout",
     "output_type": "stream",
     "text": [
      "# training sequences = 663\n",
      "# validation sequences = 100\n",
      "# epochs = 10\n"
     ]
    }
   ],
   "source": [
    "curr_dt_time = datetime.datetime.now()\n",
    "# train_path = '/notebooks/storage/Final_data/Collated_training/train'\n",
    "# val_path = '/notebooks/storage/Final_data/Collated_training/val'\n",
    "train_path = 'Project_data/Project_data/train'\n",
    "val_path = 'Project_data/Project_data/val'\n",
    "#Project_data/Project_data\n",
    "num_train_sequences = len(train_doc)\n",
    "print('# training sequences =', num_train_sequences)\n",
    "num_val_sequences = len(val_doc)\n",
    "print('# validation sequences =', num_val_sequences)\n",
    "num_epochs = 10 # choose the number of epochs\n",
    "print ('# epochs =', num_epochs)"
   ]
  },
  {
   "cell_type": "markdown",
   "metadata": {},
   "source": [
    "## Model\n",
    "Here you make the model using different functionalities that Keras provides. Remember to use `Conv3D` and `MaxPooling3D` and not `Conv2D` and `Maxpooling2D` for a 3D convolution model. You would want to use `TimeDistributed` while building a Conv2D + RNN model. Also remember that the last layer is the softmax. Design the network in such a way that the model is able to give good accuracy on the least number of parameters so that it can fit in the memory of the webcam."
   ]
  },
  {
   "cell_type": "code",
   "execution_count": 9,
   "metadata": {},
   "outputs": [
    {
     "name": "stderr",
     "output_type": "stream",
     "text": [
      "C:\\Users\\mathu\\anaconda3\\Lib\\site-packages\\keras\\src\\layers\\convolutional\\base_conv.py:107: UserWarning: Do not pass an `input_shape`/`input_dim` argument to a layer. When using Sequential models, prefer using an `Input(shape)` object as the first layer in the model instead.\n",
      "  super().__init__(activity_regularizer=activity_regularizer, **kwargs)\n"
     ]
    }
   ],
   "source": [
    "\n",
    "\n",
    "#write your model here\n",
    "model = Sequential()\n",
    "model.add(Conv3D(32, kernel_size=3, activation='relu', input_shape=input_shape))\n",
    "model.add(MaxPooling3D(pool_size=2))\n",
    "\n",
    "model.add(Conv3D(64, kernel_size=3, activation='relu'))\n",
    "model.add(MaxPooling3D(pool_size=2))\n",
    "\n",
    "model.add(Flatten())\n",
    "model.add(Dense(256, activation='relu'))\n",
    "model.add(Dense(5, activation='softmax'))\n",
    "\n"
   ]
  },
  {
   "cell_type": "markdown",
   "metadata": {},
   "source": [
    "Now that you have written the model, the next step is to `compile` the model. When you print the `summary` of the model, you'll see the total number of parameters you have to train."
   ]
  },
  {
   "cell_type": "code",
   "execution_count": 10,
   "metadata": {
    "scrolled": true
   },
   "outputs": [
    {
     "data": {
      "text/html": [
       "<pre style=\"white-space:pre;overflow-x:auto;line-height:normal;font-family:Menlo,'DejaVu Sans Mono',consolas,'Courier New',monospace\"><span style=\"font-weight: bold\">Model: \"sequential\"</span>\n",
       "</pre>\n"
      ],
      "text/plain": [
       "\u001b[1mModel: \"sequential\"\u001b[0m\n"
      ]
     },
     "metadata": {},
     "output_type": "display_data"
    },
    {
     "data": {
      "text/html": [
       "<pre style=\"white-space:pre;overflow-x:auto;line-height:normal;font-family:Menlo,'DejaVu Sans Mono',consolas,'Courier New',monospace\">┏━━━━━━━━━━━━━━━━━━━━━━━━━━━━━━━━━━━━━━┳━━━━━━━━━━━━━━━━━━━━━━━━━━━━━┳━━━━━━━━━━━━━━━━━┓\n",
       "┃<span style=\"font-weight: bold\"> Layer (type)                         </span>┃<span style=\"font-weight: bold\"> Output Shape                </span>┃<span style=\"font-weight: bold\">         Param # </span>┃\n",
       "┡━━━━━━━━━━━━━━━━━━━━━━━━━━━━━━━━━━━━━━╇━━━━━━━━━━━━━━━━━━━━━━━━━━━━━╇━━━━━━━━━━━━━━━━━┩\n",
       "│ conv3d (<span style=\"color: #0087ff; text-decoration-color: #0087ff\">Conv3D</span>)                      │ (<span style=\"color: #00d7ff; text-decoration-color: #00d7ff\">None</span>, <span style=\"color: #00af00; text-decoration-color: #00af00\">13</span>, <span style=\"color: #00af00; text-decoration-color: #00af00\">178</span>, <span style=\"color: #00af00; text-decoration-color: #00af00\">178</span>, <span style=\"color: #00af00; text-decoration-color: #00af00\">32</span>)    │           <span style=\"color: #00af00; text-decoration-color: #00af00\">2,624</span> │\n",
       "├──────────────────────────────────────┼─────────────────────────────┼─────────────────┤\n",
       "│ max_pooling3d (<span style=\"color: #0087ff; text-decoration-color: #0087ff\">MaxPooling3D</span>)         │ (<span style=\"color: #00d7ff; text-decoration-color: #00d7ff\">None</span>, <span style=\"color: #00af00; text-decoration-color: #00af00\">6</span>, <span style=\"color: #00af00; text-decoration-color: #00af00\">89</span>, <span style=\"color: #00af00; text-decoration-color: #00af00\">89</span>, <span style=\"color: #00af00; text-decoration-color: #00af00\">32</span>)       │               <span style=\"color: #00af00; text-decoration-color: #00af00\">0</span> │\n",
       "├──────────────────────────────────────┼─────────────────────────────┼─────────────────┤\n",
       "│ conv3d_1 (<span style=\"color: #0087ff; text-decoration-color: #0087ff\">Conv3D</span>)                    │ (<span style=\"color: #00d7ff; text-decoration-color: #00d7ff\">None</span>, <span style=\"color: #00af00; text-decoration-color: #00af00\">4</span>, <span style=\"color: #00af00; text-decoration-color: #00af00\">87</span>, <span style=\"color: #00af00; text-decoration-color: #00af00\">87</span>, <span style=\"color: #00af00; text-decoration-color: #00af00\">64</span>)       │          <span style=\"color: #00af00; text-decoration-color: #00af00\">55,360</span> │\n",
       "├──────────────────────────────────────┼─────────────────────────────┼─────────────────┤\n",
       "│ max_pooling3d_1 (<span style=\"color: #0087ff; text-decoration-color: #0087ff\">MaxPooling3D</span>)       │ (<span style=\"color: #00d7ff; text-decoration-color: #00d7ff\">None</span>, <span style=\"color: #00af00; text-decoration-color: #00af00\">2</span>, <span style=\"color: #00af00; text-decoration-color: #00af00\">43</span>, <span style=\"color: #00af00; text-decoration-color: #00af00\">43</span>, <span style=\"color: #00af00; text-decoration-color: #00af00\">64</span>)       │               <span style=\"color: #00af00; text-decoration-color: #00af00\">0</span> │\n",
       "├──────────────────────────────────────┼─────────────────────────────┼─────────────────┤\n",
       "│ flatten (<span style=\"color: #0087ff; text-decoration-color: #0087ff\">Flatten</span>)                    │ (<span style=\"color: #00d7ff; text-decoration-color: #00d7ff\">None</span>, <span style=\"color: #00af00; text-decoration-color: #00af00\">236672</span>)              │               <span style=\"color: #00af00; text-decoration-color: #00af00\">0</span> │\n",
       "├──────────────────────────────────────┼─────────────────────────────┼─────────────────┤\n",
       "│ dense (<span style=\"color: #0087ff; text-decoration-color: #0087ff\">Dense</span>)                        │ (<span style=\"color: #00d7ff; text-decoration-color: #00d7ff\">None</span>, <span style=\"color: #00af00; text-decoration-color: #00af00\">256</span>)                 │      <span style=\"color: #00af00; text-decoration-color: #00af00\">60,588,288</span> │\n",
       "├──────────────────────────────────────┼─────────────────────────────┼─────────────────┤\n",
       "│ dense_1 (<span style=\"color: #0087ff; text-decoration-color: #0087ff\">Dense</span>)                      │ (<span style=\"color: #00d7ff; text-decoration-color: #00d7ff\">None</span>, <span style=\"color: #00af00; text-decoration-color: #00af00\">5</span>)                   │           <span style=\"color: #00af00; text-decoration-color: #00af00\">1,285</span> │\n",
       "└──────────────────────────────────────┴─────────────────────────────┴─────────────────┘\n",
       "</pre>\n"
      ],
      "text/plain": [
       "┏━━━━━━━━━━━━━━━━━━━━━━━━━━━━━━━━━━━━━━┳━━━━━━━━━━━━━━━━━━━━━━━━━━━━━┳━━━━━━━━━━━━━━━━━┓\n",
       "┃\u001b[1m \u001b[0m\u001b[1mLayer (type)                        \u001b[0m\u001b[1m \u001b[0m┃\u001b[1m \u001b[0m\u001b[1mOutput Shape               \u001b[0m\u001b[1m \u001b[0m┃\u001b[1m \u001b[0m\u001b[1m        Param #\u001b[0m\u001b[1m \u001b[0m┃\n",
       "┡━━━━━━━━━━━━━━━━━━━━━━━━━━━━━━━━━━━━━━╇━━━━━━━━━━━━━━━━━━━━━━━━━━━━━╇━━━━━━━━━━━━━━━━━┩\n",
       "│ conv3d (\u001b[38;5;33mConv3D\u001b[0m)                      │ (\u001b[38;5;45mNone\u001b[0m, \u001b[38;5;34m13\u001b[0m, \u001b[38;5;34m178\u001b[0m, \u001b[38;5;34m178\u001b[0m, \u001b[38;5;34m32\u001b[0m)    │           \u001b[38;5;34m2,624\u001b[0m │\n",
       "├──────────────────────────────────────┼─────────────────────────────┼─────────────────┤\n",
       "│ max_pooling3d (\u001b[38;5;33mMaxPooling3D\u001b[0m)         │ (\u001b[38;5;45mNone\u001b[0m, \u001b[38;5;34m6\u001b[0m, \u001b[38;5;34m89\u001b[0m, \u001b[38;5;34m89\u001b[0m, \u001b[38;5;34m32\u001b[0m)       │               \u001b[38;5;34m0\u001b[0m │\n",
       "├──────────────────────────────────────┼─────────────────────────────┼─────────────────┤\n",
       "│ conv3d_1 (\u001b[38;5;33mConv3D\u001b[0m)                    │ (\u001b[38;5;45mNone\u001b[0m, \u001b[38;5;34m4\u001b[0m, \u001b[38;5;34m87\u001b[0m, \u001b[38;5;34m87\u001b[0m, \u001b[38;5;34m64\u001b[0m)       │          \u001b[38;5;34m55,360\u001b[0m │\n",
       "├──────────────────────────────────────┼─────────────────────────────┼─────────────────┤\n",
       "│ max_pooling3d_1 (\u001b[38;5;33mMaxPooling3D\u001b[0m)       │ (\u001b[38;5;45mNone\u001b[0m, \u001b[38;5;34m2\u001b[0m, \u001b[38;5;34m43\u001b[0m, \u001b[38;5;34m43\u001b[0m, \u001b[38;5;34m64\u001b[0m)       │               \u001b[38;5;34m0\u001b[0m │\n",
       "├──────────────────────────────────────┼─────────────────────────────┼─────────────────┤\n",
       "│ flatten (\u001b[38;5;33mFlatten\u001b[0m)                    │ (\u001b[38;5;45mNone\u001b[0m, \u001b[38;5;34m236672\u001b[0m)              │               \u001b[38;5;34m0\u001b[0m │\n",
       "├──────────────────────────────────────┼─────────────────────────────┼─────────────────┤\n",
       "│ dense (\u001b[38;5;33mDense\u001b[0m)                        │ (\u001b[38;5;45mNone\u001b[0m, \u001b[38;5;34m256\u001b[0m)                 │      \u001b[38;5;34m60,588,288\u001b[0m │\n",
       "├──────────────────────────────────────┼─────────────────────────────┼─────────────────┤\n",
       "│ dense_1 (\u001b[38;5;33mDense\u001b[0m)                      │ (\u001b[38;5;45mNone\u001b[0m, \u001b[38;5;34m5\u001b[0m)                   │           \u001b[38;5;34m1,285\u001b[0m │\n",
       "└──────────────────────────────────────┴─────────────────────────────┴─────────────────┘\n"
      ]
     },
     "metadata": {},
     "output_type": "display_data"
    },
    {
     "data": {
      "text/html": [
       "<pre style=\"white-space:pre;overflow-x:auto;line-height:normal;font-family:Menlo,'DejaVu Sans Mono',consolas,'Courier New',monospace\"><span style=\"font-weight: bold\"> Total params: </span><span style=\"color: #00af00; text-decoration-color: #00af00\">60,647,557</span> (231.35 MB)\n",
       "</pre>\n"
      ],
      "text/plain": [
       "\u001b[1m Total params: \u001b[0m\u001b[38;5;34m60,647,557\u001b[0m (231.35 MB)\n"
      ]
     },
     "metadata": {},
     "output_type": "display_data"
    },
    {
     "data": {
      "text/html": [
       "<pre style=\"white-space:pre;overflow-x:auto;line-height:normal;font-family:Menlo,'DejaVu Sans Mono',consolas,'Courier New',monospace\"><span style=\"font-weight: bold\"> Trainable params: </span><span style=\"color: #00af00; text-decoration-color: #00af00\">60,647,557</span> (231.35 MB)\n",
       "</pre>\n"
      ],
      "text/plain": [
       "\u001b[1m Trainable params: \u001b[0m\u001b[38;5;34m60,647,557\u001b[0m (231.35 MB)\n"
      ]
     },
     "metadata": {},
     "output_type": "display_data"
    },
    {
     "data": {
      "text/html": [
       "<pre style=\"white-space:pre;overflow-x:auto;line-height:normal;font-family:Menlo,'DejaVu Sans Mono',consolas,'Courier New',monospace\"><span style=\"font-weight: bold\"> Non-trainable params: </span><span style=\"color: #00af00; text-decoration-color: #00af00\">0</span> (0.00 B)\n",
       "</pre>\n"
      ],
      "text/plain": [
       "\u001b[1m Non-trainable params: \u001b[0m\u001b[38;5;34m0\u001b[0m (0.00 B)\n"
      ]
     },
     "metadata": {},
     "output_type": "display_data"
    },
    {
     "name": "stdout",
     "output_type": "stream",
     "text": [
      "None\n"
     ]
    }
   ],
   "source": [
    "optimiser = optimizers.Adam(learning_rate=0.01)\n",
    "\n",
    "model.compile(optimizer=optimiser, loss='categorical_crossentropy', metrics=['categorical_accuracy'])\n",
    "print (model.summary())\n",
    "\n"
   ]
  },
  {
   "cell_type": "markdown",
   "metadata": {},
   "source": [
    "Let us create the `train_generator` and the `val_generator` which will be used in `.fit_generator`."
   ]
  },
  {
   "cell_type": "code",
   "execution_count": 11,
   "metadata": {},
   "outputs": [],
   "source": [
    "train_generator = generator(train_path, train_doc, batch_size)\n",
    "val_generator = generator(val_path, val_doc, batch_size)"
   ]
  },
  {
   "cell_type": "code",
   "execution_count": 12,
   "metadata": {},
   "outputs": [],
   "source": [
    "model_name = 'model_init' + '_' + str(curr_dt_time).replace(' ','').replace(':','_') + '/'\n",
    "    \n",
    "if not os.path.exists(model_name):\n",
    "    os.mkdir(model_name)\n",
    "        \n",
    "filepath = model_name + 'model-{epoch:05d}-{loss:.5f}-{categorical_accuracy:.5f}-{val_loss:.5f}-{val_categorical_accuracy:.5f}.h5' + '.keras'\n",
    "\n",
    "checkpoint = ModelCheckpoint(filepath, monitor='val_loss', verbose=1, save_best_only=False, save_weights_only=False, mode='auto')\n",
    "#checkpoint = ModelCheckpoint(filepath, monitor='val_loss', verbose=1, save_best_only=False, save_weights_only=False, mode='auto')\n",
    "\n",
    "LR = ReduceLROnPlateau(monitor='val_loss', factor=0.2, patience=5, min_lr=0.001, verbose=1) # write the REducelronplateau code here\n",
    "callbacks_list = [checkpoint, LR]"
   ]
  },
  {
   "cell_type": "markdown",
   "metadata": {},
   "source": [
    "The `steps_per_epoch` and `validation_steps` are used by `fit_generator` to decide the number of next() calls it need to make."
   ]
  },
  {
   "cell_type": "code",
   "execution_count": 13,
   "metadata": {},
   "outputs": [],
   "source": [
    "if (num_train_sequences%batch_size) == 0:\n",
    "    steps_per_epoch = int(num_train_sequences/batch_size)\n",
    "else:\n",
    "    steps_per_epoch = (num_train_sequences//batch_size) + 1\n",
    "\n",
    "if (num_val_sequences%batch_size) == 0:\n",
    "    validation_steps = int(num_val_sequences/batch_size)\n",
    "else:\n",
    "    validation_steps = (num_val_sequences//batch_size) + 1"
   ]
  },
  {
   "cell_type": "markdown",
   "metadata": {},
   "source": [
    "Let us now fit the model. This will start training the model and with the help of the checkpoints, you'll be able to save the model at the end of each epoch."
   ]
  },
  {
   "cell_type": "code",
   "execution_count": 14,
   "metadata": {},
   "outputs": [
    {
     "name": "stdout",
     "output_type": "stream",
     "text": [
      "came here\n",
      "came here num_batches: 23\n",
      "Inside For\n"
     ]
    },
    {
     "name": "stderr",
     "output_type": "stream",
     "text": [
      "C:\\Users\\mathu\\AppData\\Local\\Temp\\ipykernel_29908\\3414696527.py:28: DeprecationWarning: Starting with ImageIO v3 the behavior of this function will switch to that of iio.v3.imread. To keep the current behavior (and make this warning disappear) use `import imageio.v2 as imageio` or call `imageio.v2.imread` directly.\n",
      "  image = imread(source_path+'/'+ t[folder + (batch*batch_size)].strip().split(';')[0]+'/'+imgs[item]).astype(np.float32)\n"
     ]
    },
    {
     "name": "stdout",
     "output_type": "stream",
     "text": [
      "Inside For\n",
      "Epoch 1/10\n",
      "\u001b[1m 1/23\u001b[0m \u001b[37m━━━━━━━━━━━━━━━━━━━━\u001b[0m \u001b[1m2:14\u001b[0m 6s/step - categorical_accuracy: 0.1667 - loss: 1.6192Inside For\n",
      "\u001b[1m 2/23\u001b[0m \u001b[32m━\u001b[0m\u001b[37m━━━━━━━━━━━━━━━━━━━\u001b[0m \u001b[1m1:17\u001b[0m 4s/step - categorical_accuracy: 0.1750 - loss: 1427.8026Inside For\n",
      "\u001b[1m 3/23\u001b[0m \u001b[32m━━\u001b[0m\u001b[37m━━━━━━━━━━━━━━━━━━\u001b[0m \u001b[1m1:36\u001b[0m 5s/step - categorical_accuracy: 0.1759 - loss: 1639.2078Inside For\n",
      "\u001b[1m 4/23\u001b[0m \u001b[32m━━━\u001b[0m\u001b[37m━━━━━━━━━━━━━━━━━\u001b[0m \u001b[1m1:40\u001b[0m 5s/step - categorical_accuracy: 0.1861 - loss: 1616.1344Inside For\n",
      "\u001b[1m 5/23\u001b[0m \u001b[32m━━━━\u001b[0m\u001b[37m━━━━━━━━━━━━━━━━\u001b[0m \u001b[1m1:40\u001b[0m 6s/step - categorical_accuracy: 0.1876 - loss: 1545.1902Inside For\n",
      "\u001b[1m 6/23\u001b[0m \u001b[32m━━━━━\u001b[0m\u001b[37m━━━━━━━━━━━━━━━\u001b[0m \u001b[1m1:35\u001b[0m 6s/step - categorical_accuracy: 0.1878 - loss: 1463.1887Inside For\n",
      "\u001b[1m 7/23\u001b[0m \u001b[32m━━━━━━\u001b[0m\u001b[37m━━━━━━━━━━━━━━\u001b[0m \u001b[1m1:31\u001b[0m 6s/step - categorical_accuracy: 0.1888 - loss: 1383.1556Inside For\n",
      "\u001b[1m 8/23\u001b[0m \u001b[32m━━━━━━\u001b[0m\u001b[37m━━━━━━━━━━━━━━\u001b[0m \u001b[1m1:25\u001b[0m 6s/step - categorical_accuracy: 0.1908 - loss: 1309.0474Inside For\n",
      "\u001b[1m 9/23\u001b[0m \u001b[32m━━━━━━━\u001b[0m\u001b[37m━━━━━━━━━━━━━\u001b[0m \u001b[1m1:20\u001b[0m 6s/step - categorical_accuracy: 0.1922 - loss: 1241.6708Inside For\n",
      "\u001b[1m10/23\u001b[0m \u001b[32m━━━━━━━━\u001b[0m\u001b[37m━━━━━━━━━━━━\u001b[0m \u001b[1m1:14\u001b[0m 6s/step - categorical_accuracy: 0.1933 - loss: 1180.7589Inside For\n",
      "\u001b[1m11/23\u001b[0m \u001b[32m━━━━━━━━━\u001b[0m\u001b[37m━━━━━━━━━━━\u001b[0m \u001b[1m1:09\u001b[0m 6s/step - categorical_accuracy: 0.1945 - loss: 1125.7075Inside For\n",
      "\u001b[1m12/23\u001b[0m \u001b[32m━━━━━━━━━━\u001b[0m\u001b[37m━━━━━━━━━━\u001b[0m \u001b[1m1:03\u001b[0m 6s/step - categorical_accuracy: 0.1949 - loss: 1075.8481Inside For\n",
      "\u001b[1m13/23\u001b[0m \u001b[32m━━━━━━━━━━━\u001b[0m\u001b[37m━━━━━━━━━\u001b[0m \u001b[1m58s\u001b[0m 6s/step - categorical_accuracy: 0.1957 - loss: 1030.5482 Inside For\n",
      "\u001b[1m14/23\u001b[0m \u001b[32m━━━━━━━━━━━━\u001b[0m\u001b[37m━━━━━━━━\u001b[0m \u001b[1m53s\u001b[0m 6s/step - categorical_accuracy: 0.1960 - loss: 989.2437 Inside For\n",
      "\u001b[1m15/23\u001b[0m \u001b[32m━━━━━━━━━━━━━\u001b[0m\u001b[37m━━━━━━━\u001b[0m \u001b[1m47s\u001b[0m 6s/step - categorical_accuracy: 0.1958 - loss: 951.4435Inside For\n",
      "\u001b[1m16/23\u001b[0m \u001b[32m━━━━━━━━━━━━━\u001b[0m\u001b[37m━━━━━━━\u001b[0m \u001b[1m41s\u001b[0m 6s/step - categorical_accuracy: 0.1961 - loss: 916.7253Inside For\n",
      "\u001b[1m17/23\u001b[0m \u001b[32m━━━━━━━━━━━━━━\u001b[0m\u001b[37m━━━━━━\u001b[0m \u001b[1m35s\u001b[0m 6s/step - categorical_accuracy: 0.1960 - loss: 884.7271Inside For\n",
      "\u001b[1m18/23\u001b[0m \u001b[32m━━━━━━━━━━━━━━━\u001b[0m\u001b[37m━━━━━\u001b[0m \u001b[1m29s\u001b[0m 6s/step - categorical_accuracy: 0.1962 - loss: 855.1388Inside For\n",
      "\u001b[1m19/23\u001b[0m \u001b[32m━━━━━━━━━━━━━━━━\u001b[0m\u001b[37m━━━━\u001b[0m \u001b[1m24s\u001b[0m 6s/step - categorical_accuracy: 0.1965 - loss: 827.6940Inside For\n",
      "\u001b[1m20/23\u001b[0m \u001b[32m━━━━━━━━━━━━━━━━━\u001b[0m\u001b[37m━━━\u001b[0m \u001b[1m17s\u001b[0m 6s/step - categorical_accuracy: 0.1966 - loss: 802.1637Inside For\n",
      "\u001b[1m21/23\u001b[0m \u001b[32m━━━━━━━━━━━━━━━━━━\u001b[0m\u001b[37m━━\u001b[0m \u001b[1m12s\u001b[0m 6s/step - categorical_accuracy: 0.1965 - loss: 778.3495Inside For\n",
      "\u001b[1m22/23\u001b[0m \u001b[32m━━━━━━━━━━━━━━━━━━━\u001b[0m\u001b[37m━\u001b[0m \u001b[1m6s\u001b[0m 6s/step - categorical_accuracy: 0.1964 - loss: 756.0795 "
     ]
    },
    {
     "ename": "UnknownError",
     "evalue": "Graph execution error:\n\nDetected at node PyFunc defined at (most recent call last):\n<stack traces unavailable>\nIndexError: index 663 is out of bounds for axis 0 with size 663\nTraceback (most recent call last):\n\n  File \"C:\\Users\\mathu\\anaconda3\\Lib\\site-packages\\tensorflow\\python\\ops\\script_ops.py\", line 269, in __call__\n    ret = func(*args)\n          ^^^^^^^^^^^\n\n  File \"C:\\Users\\mathu\\anaconda3\\Lib\\site-packages\\tensorflow\\python\\autograph\\impl\\api.py\", line 643, in wrapper\n    return func(*args, **kwargs)\n           ^^^^^^^^^^^^^^^^^^^^^\n\n  File \"C:\\Users\\mathu\\anaconda3\\Lib\\site-packages\\tensorflow\\python\\data\\ops\\from_generator_op.py\", line 198, in generator_py_func\n    values = next(generator_state.get_iterator(iterator_id))\n             ^^^^^^^^^^^^^^^^^^^^^^^^^^^^^^^^^^^^^^^^^^^^^^^\n\n  File \"C:\\Users\\mathu\\anaconda3\\Lib\\site-packages\\keras\\src\\trainers\\data_adapters\\generator_data_adapter.py\", line 52, in get_tf_iterator\n    for batch in self.generator:\n\n  File \"C:\\Users\\mathu\\AppData\\Local\\Temp\\ipykernel_29908\\3414696527.py\", line 26, in generator\n    imgs = os.listdir(source_path+'/'+ t[folder + (batch*batch_size)].split(';')[0]) # read all the images in the folder\n                                       ~^^^^^^^^^^^^^^^^^^^^^^^^^^^^^\n\nIndexError: index 663 is out of bounds for axis 0 with size 663\n\n\n\t [[{{node PyFunc}}]]\n\t [[IteratorGetNext]] [Op:__inference_one_step_on_iterator_1690]",
     "output_type": "error",
     "traceback": [
      "\u001b[1;31m---------------------------------------------------------------------------\u001b[0m",
      "\u001b[1;31mUnknownError\u001b[0m                              Traceback (most recent call last)",
      "Cell \u001b[1;32mIn[14], line 5\u001b[0m\n\u001b[0;32m      1\u001b[0m \u001b[38;5;66;03m# history = model.fit_generator(train_generator, steps_per_epoch=steps_per_epoch, epochs=num_epochs, verbose=1, \u001b[39;00m\n\u001b[0;32m      2\u001b[0m \u001b[38;5;66;03m#                     callbacks=callbacks_list, validation_data=val_generator, \u001b[39;00m\n\u001b[0;32m      3\u001b[0m \u001b[38;5;66;03m#                     validation_steps=validation_steps, class_weight=None, workers=1, initial_epoch=0)\u001b[39;00m\n\u001b[1;32m----> 5\u001b[0m model\u001b[38;5;241m.\u001b[39mfit(train_generator, steps_per_epoch\u001b[38;5;241m=\u001b[39msteps_per_epoch, epochs\u001b[38;5;241m=\u001b[39mnum_epochs, verbose\u001b[38;5;241m=\u001b[39m\u001b[38;5;241m1\u001b[39m, \n\u001b[0;32m      6\u001b[0m                     callbacks\u001b[38;5;241m=\u001b[39mcallbacks_list, validation_data\u001b[38;5;241m=\u001b[39mval_generator, \n\u001b[0;32m      7\u001b[0m                     validation_steps\u001b[38;5;241m=\u001b[39mvalidation_steps, class_weight\u001b[38;5;241m=\u001b[39m\u001b[38;5;28;01mNone\u001b[39;00m,  initial_epoch\u001b[38;5;241m=\u001b[39m\u001b[38;5;241m0\u001b[39m)\n",
      "File \u001b[1;32m~\\anaconda3\\Lib\\site-packages\\keras\\src\\utils\\traceback_utils.py:122\u001b[0m, in \u001b[0;36mfilter_traceback.<locals>.error_handler\u001b[1;34m(*args, **kwargs)\u001b[0m\n\u001b[0;32m    119\u001b[0m     filtered_tb \u001b[38;5;241m=\u001b[39m _process_traceback_frames(e\u001b[38;5;241m.\u001b[39m__traceback__)\n\u001b[0;32m    120\u001b[0m     \u001b[38;5;66;03m# To get the full stack trace, call:\u001b[39;00m\n\u001b[0;32m    121\u001b[0m     \u001b[38;5;66;03m# `keras.config.disable_traceback_filtering()`\u001b[39;00m\n\u001b[1;32m--> 122\u001b[0m     \u001b[38;5;28;01mraise\u001b[39;00m e\u001b[38;5;241m.\u001b[39mwith_traceback(filtered_tb) \u001b[38;5;28;01mfrom\u001b[39;00m \u001b[38;5;28;01mNone\u001b[39;00m\n\u001b[0;32m    123\u001b[0m \u001b[38;5;28;01mfinally\u001b[39;00m:\n\u001b[0;32m    124\u001b[0m     \u001b[38;5;28;01mdel\u001b[39;00m filtered_tb\n",
      "File \u001b[1;32m~\\anaconda3\\Lib\\site-packages\\tensorflow\\python\\eager\\execute.py:53\u001b[0m, in \u001b[0;36mquick_execute\u001b[1;34m(op_name, num_outputs, inputs, attrs, ctx, name)\u001b[0m\n\u001b[0;32m     51\u001b[0m \u001b[38;5;28;01mtry\u001b[39;00m:\n\u001b[0;32m     52\u001b[0m   ctx\u001b[38;5;241m.\u001b[39mensure_initialized()\n\u001b[1;32m---> 53\u001b[0m   tensors \u001b[38;5;241m=\u001b[39m pywrap_tfe\u001b[38;5;241m.\u001b[39mTFE_Py_Execute(ctx\u001b[38;5;241m.\u001b[39m_handle, device_name, op_name,\n\u001b[0;32m     54\u001b[0m                                       inputs, attrs, num_outputs)\n\u001b[0;32m     55\u001b[0m \u001b[38;5;28;01mexcept\u001b[39;00m core\u001b[38;5;241m.\u001b[39m_NotOkStatusException \u001b[38;5;28;01mas\u001b[39;00m e:\n\u001b[0;32m     56\u001b[0m   \u001b[38;5;28;01mif\u001b[39;00m name \u001b[38;5;129;01mis\u001b[39;00m \u001b[38;5;129;01mnot\u001b[39;00m \u001b[38;5;28;01mNone\u001b[39;00m:\n",
      "\u001b[1;31mUnknownError\u001b[0m: Graph execution error:\n\nDetected at node PyFunc defined at (most recent call last):\n<stack traces unavailable>\nIndexError: index 663 is out of bounds for axis 0 with size 663\nTraceback (most recent call last):\n\n  File \"C:\\Users\\mathu\\anaconda3\\Lib\\site-packages\\tensorflow\\python\\ops\\script_ops.py\", line 269, in __call__\n    ret = func(*args)\n          ^^^^^^^^^^^\n\n  File \"C:\\Users\\mathu\\anaconda3\\Lib\\site-packages\\tensorflow\\python\\autograph\\impl\\api.py\", line 643, in wrapper\n    return func(*args, **kwargs)\n           ^^^^^^^^^^^^^^^^^^^^^\n\n  File \"C:\\Users\\mathu\\anaconda3\\Lib\\site-packages\\tensorflow\\python\\data\\ops\\from_generator_op.py\", line 198, in generator_py_func\n    values = next(generator_state.get_iterator(iterator_id))\n             ^^^^^^^^^^^^^^^^^^^^^^^^^^^^^^^^^^^^^^^^^^^^^^^\n\n  File \"C:\\Users\\mathu\\anaconda3\\Lib\\site-packages\\keras\\src\\trainers\\data_adapters\\generator_data_adapter.py\", line 52, in get_tf_iterator\n    for batch in self.generator:\n\n  File \"C:\\Users\\mathu\\AppData\\Local\\Temp\\ipykernel_29908\\3414696527.py\", line 26, in generator\n    imgs = os.listdir(source_path+'/'+ t[folder + (batch*batch_size)].split(';')[0]) # read all the images in the folder\n                                       ~^^^^^^^^^^^^^^^^^^^^^^^^^^^^^\n\nIndexError: index 663 is out of bounds for axis 0 with size 663\n\n\n\t [[{{node PyFunc}}]]\n\t [[IteratorGetNext]] [Op:__inference_one_step_on_iterator_1690]"
     ]
    }
   ],
   "source": [
    "\n",
    "# history = model.fit_generator(train_generator, steps_per_epoch=steps_per_epoch, epochs=num_epochs, verbose=1, \n",
    "#                     callbacks=callbacks_list, validation_data=val_generator, \n",
    "#                     validation_steps=validation_steps, class_weight=None, workers=1, initial_epoch=0)\n",
    "\n",
    "model.fit(train_generator, steps_per_epoch=steps_per_epoch, epochs=num_epochs, verbose=1, \n",
    "                    callbacks=callbacks_list, validation_data=val_generator, \n",
    "                    validation_steps=validation_steps, class_weight=None,  initial_epoch=0)"
   ]
  },
  {
   "cell_type": "code",
   "execution_count": 133,
   "metadata": {},
   "outputs": [
    {
     "name": "stdout",
     "output_type": "stream",
     "text": [
      "came here\n",
      "came here num_batches: 663\n",
      "Inside For\n",
      "Inside For1\n",
      "[[[[[0.64870387 0.6447823  0.62909603]\n",
      "    [0.64795512 0.64403355 0.62834728]\n",
      "    [0.64038557 0.636464   0.62077773]\n",
      "    ...\n",
      "    [0.54945314 0.53831714 0.50363094]\n",
      "    [0.54582292 0.53137422 0.49680436]\n",
      "    [0.55663896 0.5298081  0.49865705]]\n",
      "\n",
      "   [[0.64221895 0.63829738 0.62261111]\n",
      "    [0.64074218 0.63682061 0.62113434]\n",
      "    [0.64471126 0.64078969 0.62510341]\n",
      "    ...\n",
      "    [0.54574209 0.53486347 0.50674641]\n",
      "    [0.54836541 0.53187376 0.50646603]\n",
      "    [0.55567157 0.52842122 0.50508982]]\n",
      "\n",
      "   [[0.60596079 0.60203922 0.58635294]\n",
      "    [0.60877436 0.6048528  0.58916652]\n",
      "    [0.61176664 0.60784507 0.59215879]\n",
      "    ...\n",
      "    [0.54519248 0.53559572 0.50792533]\n",
      "    [0.55185473 0.52755648 0.51211512]\n",
      "    [0.55778521 0.52727568 0.51425195]]\n",
      "\n",
      "   ...\n",
      "\n",
      "   [[0.47181451 0.4718982  0.46586078]\n",
      "    [0.47374642 0.47514617 0.46210119]\n",
      "    [0.43012285 0.4305912  0.42127553]\n",
      "    ...\n",
      "    [0.11782449 0.12174606 0.09841519]\n",
      "    [0.12868647 0.12560396 0.10578636]\n",
      "    [0.12244556 0.1189435  0.09933566]]\n",
      "\n",
      "   [[0.47835135 0.48290274 0.44527736]\n",
      "    [0.44338772 0.44461355 0.41838607]\n",
      "    [0.40998346 0.41362414 0.39391246]\n",
      "    ...\n",
      "    [0.1241791  0.13468523 0.10786355]\n",
      "    [0.12596731 0.12946935 0.1061497 ]\n",
      "    [0.11918713 0.12226965 0.09915976]]\n",
      "\n",
      "   [[0.42588723 0.45156214 0.39598605]\n",
      "    [0.3974953  0.41432315 0.37366337]\n",
      "    [0.39377391 0.40313506 0.37982622]\n",
      "    ...\n",
      "    [0.12820907 0.13213168 0.10860175]\n",
      "    [0.12939867 0.12631719 0.1062893 ]\n",
      "    [0.12911734 0.12561634 0.10579821]]]\n",
      "\n",
      "\n",
      "  [[[0.63767523 0.63375366 0.61806738]\n",
      "    [0.6430316  0.63911003 0.62342376]\n",
      "    [0.64264649 0.63872492 0.62303865]\n",
      "    ...\n",
      "    [0.56168318 0.53485101 0.50311488]\n",
      "    [0.54652399 0.53263623 0.49414578]\n",
      "    [0.54921758 0.53363568 0.49867973]]\n",
      "\n",
      "   [[0.63706714 0.63314557 0.6174593 ]\n",
      "    [0.64135134 0.63742977 0.6217435 ]\n",
      "    [0.63993812 0.63601655 0.62033027]\n",
      "    ...\n",
      "    [0.55750674 0.53048694 0.49970973]\n",
      "    [0.54908752 0.53248006 0.50679004]\n",
      "    [0.54840207 0.52938986 0.5054633 ]]\n",
      "\n",
      "   [[0.60131985 0.59739828 0.58171201]\n",
      "    [0.60625708 0.60233551 0.58664924]\n",
      "    [0.61269122 0.60876966 0.59308338]\n",
      "    ...\n",
      "    [0.55909246 0.5298906  0.50351357]\n",
      "    [0.54855156 0.52852386 0.51148361]\n",
      "    [0.54797918 0.52878982 0.51205516]]\n",
      "\n",
      "   ...\n",
      "\n",
      "   [[0.41912496 0.43609503 0.36207679]\n",
      "    [0.41030523 0.42184857 0.36596701]\n",
      "    [0.31935176 0.32395175 0.2994183 ]\n",
      "    ...\n",
      "    [0.11882703 0.1227486  0.10293099]\n",
      "    [0.11796199 0.12188356 0.09856442]\n",
      "    [0.11707601 0.12099758 0.09921918]]\n",
      "\n",
      "   [[0.50842237 0.5203141  0.47884661]\n",
      "    [0.46251243 0.47140616 0.44347557]\n",
      "    [0.3685635  0.37702554 0.36193445]\n",
      "    ...\n",
      "    [0.1269362  0.13085777 0.11084063]\n",
      "    [0.12615466 0.13007621 0.10674582]\n",
      "    [0.12702987 0.13095143 0.10917306]]\n",
      "\n",
      "   [[0.5218423  0.56903756 0.50723976]\n",
      "    [0.46169296 0.49794266 0.45606473]\n",
      "    [0.32882133 0.34947941 0.32489893]\n",
      "    ...\n",
      "    [0.12295709 0.12687866 0.10023355]\n",
      "    [0.12298025 0.12690182 0.10319685]\n",
      "    [0.12560578 0.12952735 0.10774896]]]\n",
      "\n",
      "\n",
      "  [[[0.6395303  0.63560873 0.61992246]\n",
      "    [0.6432299  0.63930833 0.62362206]\n",
      "    [0.64421004 0.64028847 0.6246022 ]\n",
      "    ...\n",
      "    [0.56063253 0.53381187 0.50180906]\n",
      "    [0.54679292 0.53397936 0.48786473]\n",
      "    [0.54855156 0.53328478 0.48622701]]\n",
      "\n",
      "   [[0.63626492 0.63234335 0.61665708]\n",
      "    [0.64026618 0.63634461 0.62065834]\n",
      "    [0.63925982 0.63533825 0.61965197]\n",
      "    ...\n",
      "    [0.55771613 0.53048718 0.4987058 ]\n",
      "    [0.55013877 0.53683454 0.49306628]\n",
      "    [0.5482046  0.53291529 0.48978937]]\n",
      "\n",
      "   [[0.59806049 0.59413892 0.57845265]\n",
      "    [0.60355818 0.59963661 0.58395034]\n",
      "    [0.6099664  0.60604483 0.59035856]\n",
      "    ...\n",
      "    [0.56200951 0.52775449 0.49974495]\n",
      "    [0.55160928 0.53011185 0.49599537]\n",
      "    [0.54806238 0.53239709 0.49625319]]\n",
      "\n",
      "   ...\n",
      "\n",
      "   [[0.17153269 0.15771529 0.14530855]\n",
      "    [0.16686611 0.16317686 0.14708222]\n",
      "    [0.16967937 0.16659686 0.1502813 ]\n",
      "    ...\n",
      "    [0.11911802 0.11931656 0.11028218]\n",
      "    [0.12019064 0.11651248 0.10922009]\n",
      "    [0.11317781 0.10635024 0.10884692]]\n",
      "\n",
      "   [[0.16356136 0.1631536  0.14561117]\n",
      "    [0.16504265 0.16832371 0.14903051]\n",
      "    [0.16842845 0.17193049 0.15253241]\n",
      "    ...\n",
      "    [0.12531219 0.12568684 0.11661885]\n",
      "    [0.12284016 0.12243186 0.1148097 ]\n",
      "    [0.11662025 0.11580369 0.11578011]]\n",
      "\n",
      "   [[0.16481024 0.16873084 0.14912349]\n",
      "    [0.16579041 0.16971192 0.15010411]\n",
      "    [0.16656178 0.17048335 0.15087551]\n",
      "    ...\n",
      "    [0.12394854 0.12727405 0.10826381]\n",
      "    [0.12987641 0.12636364 0.11522873]\n",
      "    [0.12909465 0.12187107 0.12496182]]]\n",
      "\n",
      "\n",
      "  ...\n",
      "\n",
      "\n",
      "  [[[0.61361861 0.59793234 0.5865882 ]\n",
      "    [0.6152662  0.59957993 0.59565836]\n",
      "    [0.61765677 0.60197049 0.60547251]\n",
      "    ...\n",
      "    [0.5215916  0.50527608 0.46318761]\n",
      "    [0.51970124 0.50401497 0.4678818 ]\n",
      "    [0.52145171 0.50576544 0.46304879]]\n",
      "\n",
      "   [[0.60240889 0.58672261 0.57537848]\n",
      "    [0.60650563 0.59081936 0.58689779]\n",
      "    [0.60826832 0.59258205 0.59608412]\n",
      "    ...\n",
      "    [0.51846415 0.50214863 0.46006015]\n",
      "    [0.5177632  0.50207692 0.46594372]\n",
      "    [0.51942074 0.50373447 0.46101776]]\n",
      "\n",
      "   [[0.58905083 0.57336456 0.56202042]\n",
      "    [0.59342736 0.57774109 0.57381958]\n",
      "    [0.5940448  0.57835853 0.5818606 ]\n",
      "    ...\n",
      "    [0.51788032 0.50156474 0.45947623]\n",
      "    [0.51610613 0.50038612 0.46426421]\n",
      "    [0.51902425 0.50274241 0.46022427]]\n",
      "\n",
      "   ...\n",
      "\n",
      "   [[0.14500493 0.1489265  0.12931865]\n",
      "    [0.14792314 0.15184471 0.13223687]\n",
      "    [0.14904276 0.15296432 0.13335648]\n",
      "    ...\n",
      "    [0.1040158  0.10793737 0.08069615]\n",
      "    [0.10744651 0.11136808 0.09154944]\n",
      "    [0.10792558 0.11184715 0.09223931]]\n",
      "\n",
      "   [[0.14158532 0.14550689 0.12589905]\n",
      "    [0.14499338 0.14891495 0.12930711]\n",
      "    [0.14499298 0.14891455 0.1293067 ]\n",
      "    ...\n",
      "    [0.10512289 0.10904445 0.08180323]\n",
      "    [0.10804142 0.11196299 0.09214435]\n",
      "    [0.11147172 0.11539329 0.09578545]]\n",
      "\n",
      "   [[0.14138675 0.14530832 0.12570047]\n",
      "    [0.14468953 0.14861111 0.12900326]\n",
      "    [0.14059368 0.14451525 0.1249074 ]\n",
      "    ...\n",
      "    [0.10687391 0.11079548 0.08355426]\n",
      "    [0.10988567 0.11380724 0.0939886 ]\n",
      "    [0.11341007 0.11733164 0.09772379]]]\n",
      "\n",
      "\n",
      "  [[[0.60881102 0.59312475 0.58178067]\n",
      "    [0.61242878 0.59674251 0.59240139]\n",
      "    [0.61677021 0.60108393 0.59716237]\n",
      "    ...\n",
      "    [0.5250712  0.49824953 0.46624768]\n",
      "    [0.51827681 0.50196129 0.45945325]\n",
      "    [0.52135837 0.5056721  0.46253484]]\n",
      "\n",
      "   [[0.59968621 0.58399993 0.5726558 ]\n",
      "    [0.60192811 0.58624184 0.58190078]\n",
      "    [0.60987467 0.59418839 0.59026682]\n",
      "    ...\n",
      "    [0.52518731 0.49836561 0.46636376]\n",
      "    [0.5200274  0.50371182 0.46120384]\n",
      "    [0.52146327 0.505777   0.46263972]]\n",
      "\n",
      "   [[0.58646101 0.57077473 0.55943066]\n",
      "    [0.58930832 0.57362205 0.56928098]\n",
      "    [0.59293717 0.5772509  0.57332933]\n",
      "    ...\n",
      "    [0.52566677 0.4988451  0.46684325]\n",
      "    [0.5217889  0.50547332 0.46296537]\n",
      "    [0.52069306 0.50500679 0.46186954]]\n",
      "\n",
      "   ...\n",
      "\n",
      "   [[0.14148036 0.14540192 0.12579408]\n",
      "    [0.14472307 0.14864464 0.1290368 ]\n",
      "    [0.1444101  0.14833167 0.12872383]\n",
      "    ...\n",
      "    [0.104027   0.10794856 0.08070735]\n",
      "    [0.10744651 0.11136808 0.09154944]\n",
      "    [0.10792558 0.11184715 0.09223931]]\n",
      "\n",
      "   [[0.14304313 0.1469647  0.12735686]\n",
      "    [0.141655   0.14557657 0.12596872]\n",
      "    [0.14079095 0.14471252 0.12510467]\n",
      "    ...\n",
      "    [0.10521655 0.10913812 0.0818969 ]\n",
      "    [0.10804142 0.11196299 0.09214435]\n",
      "    [0.11147172 0.11539329 0.09578545]]\n",
      "\n",
      "   [[0.14313674 0.14705831 0.12745047]\n",
      "    [0.1411867  0.14510827 0.12550043]\n",
      "    [0.13570409 0.13962565 0.12001783]\n",
      "    ...\n",
      "    [0.10687371 0.11079528 0.08355406]\n",
      "    [0.10988567 0.11380724 0.0939886 ]\n",
      "    [0.11341007 0.11733164 0.09772379]]]\n",
      "\n",
      "\n",
      "  [[[0.6099205  0.59423423 0.59073317]\n",
      "    [0.61539316 0.59970689 0.6027894 ]\n",
      "    [0.61870736 0.60302109 0.59951901]\n",
      "    ...\n",
      "    [0.51764756 0.50196129 0.46624714]\n",
      "    [0.51785624 0.50216997 0.45749152]\n",
      "    [0.51960737 0.50392109 0.45686275]]\n",
      "\n",
      "   [[0.60551184 0.58982557 0.58632457]\n",
      "    [0.60929507 0.5936088  0.59669131]\n",
      "    [0.61010057 0.59441429 0.59091222]\n",
      "    ...\n",
      "    [0.51765877 0.5019725  0.46625835]\n",
      "    [0.5180437  0.50235736 0.45767888]\n",
      "    [0.51971227 0.504026   0.45696765]]\n",
      "\n",
      "   [[0.58088046 0.56519419 0.56169313]\n",
      "    [0.58917671 0.57349044 0.57657301]\n",
      "    [0.58890957 0.57322329 0.56972128]\n",
      "    ...\n",
      "    [0.51784611 0.50215983 0.46644565]\n",
      "    [0.52106643 0.50538015 0.46070188]\n",
      "    [0.521254   0.50556773 0.45850992]]\n",
      "\n",
      "   ...\n",
      "\n",
      "   [[0.14148033 0.1454019  0.12579405]\n",
      "    [0.14472285 0.14864442 0.12903658]\n",
      "    [0.14450352 0.14842509 0.12881725]\n",
      "    ...\n",
      "    [0.10784265 0.11176422 0.09215637]\n",
      "    [0.10774925 0.11167082 0.09206298]\n",
      "    [0.10793674 0.11185831 0.09225047]]\n",
      "\n",
      "   [[0.14304313 0.1469647  0.12735686]\n",
      "    [0.141655   0.14557657 0.12596872]\n",
      "    [0.14070816 0.14462973 0.12502189]\n",
      "    ...\n",
      "    [0.1100954  0.11401697 0.09440913]\n",
      "    [0.10913812 0.11305968 0.09345184]\n",
      "    [0.1115766  0.11549817 0.09589033]]\n",
      "\n",
      "   [[0.14313674 0.14705831 0.12745047]\n",
      "    [0.1411867  0.14510827 0.12550043]\n",
      "    [0.13569236 0.13961393 0.12000608]\n",
      "    ...\n",
      "    [0.11332838 0.11724995 0.09764211]\n",
      "    [0.11185788 0.11577944 0.0961716 ]\n",
      "    [0.11360861 0.11753018 0.09792234]]]]]\n"
     ]
    },
    {
     "name": "stderr",
     "output_type": "stream",
     "text": [
      "C:\\Users\\mathu\\AppData\\Local\\Temp\\ipykernel_32208\\2174006485.py:29: DeprecationWarning: Starting with ImageIO v3 the behavior of this function will switch to that of iio.v3.imread. To keep the current behavior (and make this warning disappear) use `import imageio.v2 as imageio` or call `imageio.v2.imread` directly.\n",
      "  image = imread(source_path+'/'+ t[folder + (batch*batch_size)].strip().split(';')[0]+'/'+imgs[item]).astype(np.float32)\n"
     ]
    }
   ],
   "source": [
    "# testing generative \n",
    "test_gen = generator(train_path, train_doc, 1, is_train = True, augmention = True, debug = True)\n",
    "d = next(test_gen)[0]\n",
    "print (d)"
   ]
  },
  {
   "cell_type": "code",
   "execution_count": 125,
   "metadata": {},
   "outputs": [
    {
     "name": "stdout",
     "output_type": "stream",
     "text": [
      "0\n"
     ]
    }
   ],
   "source": [
    "for i in range(1):\n",
    "    print (i)"
   ]
  },
  {
   "cell_type": "code",
   "execution_count": null,
   "metadata": {},
   "outputs": [],
   "source": []
  }
 ],
 "metadata": {
  "kernelspec": {
   "display_name": "Python 3 (ipykernel)",
   "language": "python",
   "name": "python3"
  },
  "language_info": {
   "codemirror_mode": {
    "name": "ipython",
    "version": 3
   },
   "file_extension": ".py",
   "mimetype": "text/x-python",
   "name": "python",
   "nbconvert_exporter": "python",
   "pygments_lexer": "ipython3",
   "version": "3.11.7"
  }
 },
 "nbformat": 4,
 "nbformat_minor": 2
}
